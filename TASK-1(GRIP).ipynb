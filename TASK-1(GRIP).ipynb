{
 "cells": [
  {
   "cell_type": "markdown",
   "id": "6ec8c3bd",
   "metadata": {},
   "source": [
    "# THE SPARKS FOUNDATION GRIP PROGRAM(APRIL-2021)\n",
    "**Data Science & Business Analytics Internship**\n",
    "\n",
    "Task-1 : What will be predicted score if a student studies for 9.25 hrs? (Prediction using Supervised ML)\n",
    "\n",
    "**By: Rishita**"
   ]
  },
  {
   "cell_type": "code",
   "execution_count": null,
   "id": "fbafdb4a",
   "metadata": {},
   "outputs": [],
   "source": [
    "#importing all the required libraries\n",
    "import numpy as np  #used for performing operations on numerical data\n",
    "import pandas as pd  #used for data manipulation and analysis\n",
    "import seaborn as sns #used for drawing statistical graphics \n",
    "import matplotlib.pyplot as plt\n",
    "%matplotlib inline"
   ]
  },
  {
   "cell_type": "code",
   "execution_count": null,
   "id": "47f91afc",
   "metadata": {},
   "outputs": [],
   "source": [
    "#Reading data of csv file from the given url\n",
    "df = pd.read_csv(\"http://bit.ly/w-data\")\n",
    "df.head(10) "
   ]
  },
  {
   "cell_type": "code",
   "execution_count": null,
   "id": "2f20e09a",
   "metadata": {},
   "outputs": [],
   "source": [
    "#This function returns the number of rows and coloums of the data framework\n",
    "df.shape"
   ]
  },
  {
   "cell_type": "code",
   "execution_count": null,
   "id": "75304e25",
   "metadata": {},
   "outputs": [],
   "source": [
    "# checking if there are any null values\n",
    "df.isnull().any()"
   ]
  },
  {
   "cell_type": "markdown",
   "id": "80a1720e",
   "metadata": {},
   "source": [
    "**The following result shows that there is no null value in our data set**"
   ]
  },
  {
   "cell_type": "code",
   "execution_count": null,
   "id": "e2135266",
   "metadata": {},
   "outputs": [],
   "source": [
    "#Plotting the scores\n",
    "sns.scatterplot(x='Hours',y='Scores',data=df)"
   ]
  },
  {
   "cell_type": "code",
   "execution_count": null,
   "id": "7d409a4f",
   "metadata": {},
   "outputs": [],
   "source": [
    "#dividing the data into attributes (inputs) and labels (outputs)\n",
    "X = df.iloc[:,:-1]\n",
    "y = df.iloc[:,1]"
   ]
  },
  {
   "cell_type": "code",
   "execution_count": null,
   "id": "e3baa6f6",
   "metadata": {},
   "outputs": [],
   "source": [
    "X.head()"
   ]
  },
  {
   "cell_type": "code",
   "execution_count": null,
   "id": "29f51642",
   "metadata": {},
   "outputs": [],
   "source": [
    "#Splitting the data into training and test sets by using Scikit-Learn's built-in train_test_split() method:\n",
    "from sklearn.model_selection import train_test_split  \n",
    "X_train, X_test, y_train, y_test = train_test_split(X, y, \n",
    "                            test_size=0.2, random_state=0)"
   ]
  },
  {
   "cell_type": "code",
   "execution_count": null,
   "id": "e9ead5dc",
   "metadata": {},
   "outputs": [],
   "source": [
    "#Splitting the independent and dependent features into train test split using sklearn library\n",
    "from sklearn.model_selection import train_test_split\n",
    "X_train,X_test,y_train,y_test = train_test_split(X,y,test_size=0.2,random_state=42,shuffle=True)"
   ]
  },
  {
   "cell_type": "code",
   "execution_count": null,
   "id": "047b6b18",
   "metadata": {},
   "outputs": [],
   "source": [
    "#training the algorithm\n",
    "from sklearn.linear_model import LinearRegression\n",
    "lr = LinearRegression()\n",
    "\n",
    "lr.fit(X_train,y_train)"
   ]
  },
  {
   "cell_type": "markdown",
   "id": "61bc7f6f",
   "metadata": {},
   "source": [
    "# Prediction of the data"
   ]
  },
  {
   "cell_type": "code",
   "execution_count": null,
   "id": "4105b620",
   "metadata": {},
   "outputs": [],
   "source": [
    "#prediction of the test data\n",
    "y_pred = lr.predict(X_test)"
   ]
  },
  {
   "cell_type": "code",
   "execution_count": null,
   "id": "72e5b985",
   "metadata": {},
   "outputs": [],
   "source": [
    "#Plotting the regression line\n",
    "line = lr.coef_*X+lr.intercept_\n",
    "#Plotting of the test data\n",
    "plt.scatter(X, y)\n",
    "plt.plot(X, line);\n",
    "plt.show()"
   ]
  },
  {
   "cell_type": "markdown",
   "id": "f40d95a2",
   "metadata": {},
   "source": [
    "# Evaluation of the model"
   ]
  },
  {
   "cell_type": "code",
   "execution_count": null,
   "id": "01ff2fdb",
   "metadata": {},
   "outputs": [],
   "source": [
    "#Evaluation of the model\n",
    "from sklearn.metrics import mean_absolute_error,mean_squared_error\n",
    "print(\"Mean_absolute_error is\",mean_absolute_error(y_test,y_pred))\n",
    "print(\"mean_squared_error is\", mean_squared_error(y_test,y_pred))"
   ]
  },
  {
   "cell_type": "code",
   "execution_count": null,
   "id": "d8bd45e0",
   "metadata": {},
   "outputs": [],
   "source": [
    "#comparison of predicted and actual values\n",
    "pred_actual = pd.DataFrame({'Actual': y_test, 'Predicted': y_pred})\n",
    "pred_actual"
   ]
  },
  {
   "cell_type": "code",
   "execution_count": null,
   "id": "ba9208a0",
   "metadata": {},
   "outputs": [],
   "source": [
    "from sklearn.metrics import r2_score\n",
    "score = r2_score(y_test,y_pred)\n",
    "score"
   ]
  },
  {
   "cell_type": "markdown",
   "id": "172a2fb5",
   "metadata": {},
   "source": [
    "# Result"
   ]
  },
  {
   "cell_type": "code",
   "execution_count": null,
   "id": "70105f44",
   "metadata": {},
   "outputs": [],
   "source": [
    "print(\"If a student studies for 9.25hrs/day then he will score approximately {}\".format(lr.predict([[9.25]])))"
   ]
  },
  {
   "cell_type": "markdown",
   "id": "390da932",
   "metadata": {},
   "source": [
    "**Conclusion: We have used the algorithm of Linear Regression and found the approximate score of a student if he studies for 9.25hrs/day.**"
   ]
  }
 ],
 "metadata": {
  "kernelspec": {
   "display_name": "Python 3",
   "language": "python",
   "name": "python3"
  },
  "language_info": {
   "codemirror_mode": {
    "name": "ipython",
    "version": 3
   },
   "file_extension": ".py",
   "mimetype": "text/x-python",
   "name": "python",
   "nbconvert_exporter": "python",
   "pygments_lexer": "ipython3",
   "version": "3.9.4"
  }
 },
 "nbformat": 4,
 "nbformat_minor": 5
}
